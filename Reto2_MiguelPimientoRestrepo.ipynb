{
  "nbformat": 4,
  "nbformat_minor": 0,
  "metadata": {
    "colab": {
      "provenance": [],
      "mount_file_id": "1iRkms5S6mddf48VXT1HYilFR7C9emVdY",
      "authorship_tag": "ABX9TyPIli/eKUs+diQjXbCG6cGP",
      "include_colab_link": true
    },
    "kernelspec": {
      "name": "python3",
      "display_name": "Python 3"
    },
    "language_info": {
      "name": "python"
    }
  },
  "cells": [
    {
      "cell_type": "markdown",
      "metadata": {
        "id": "view-in-github",
        "colab_type": "text"
      },
      "source": [
        "<a href=\"https://colab.research.google.com/github/mptorpo/analitica_negocios/blob/main/Reto2_MiguelPimientoRestrepo.ipynb\" target=\"_parent\"><img src=\"https://colab.research.google.com/assets/colab-badge.svg\" alt=\"Open In Colab\"/></a>"
      ]
    },
    {
      "cell_type": "markdown",
      "source": [
        "**RETO 2 - ÁRBOLES DE DECISIÓN: Tech Sales Report**"
      ],
      "metadata": {
        "id": "UVDMruKshfIh"
      }
    },
    {
      "cell_type": "markdown",
      "source": [
        "**Descripción de Variables**\n",
        "\n",
        "* Business_Num: Uno de los dos grupos de productos = Hardware (0) y Software (1).\n",
        "* Age: Edad del empleado\n",
        "* Female: Si es mujer o no (1=Si es mujer | 0=Caso contrario)\n",
        "* Years: El número de años que el empleado ha estado en la empresa\n",
        "* Certificates: El número de certiﬁcaciones profesionales relevantes que ha obtenido cada empleado.\n",
        "* Feedback: El puntaje de retroalimentación promedio que cada empleado recibe de sus compañeros y supervisor en la evaluación anual de 360 grados. De 0 a 4.\n",
        "* Salary: Sueldo base anual de cada empleado.\n",
        "* NPS: Net Promoter Score (medición de la satisfacción y lealtad del cliente)\n",
        "* College: Si el empleado tiene o no un título universitario de cuatro años (1=Si | 0=No)."
      ],
      "metadata": {
        "id": "zt9rqJX4KzEd"
      }
    },
    {
      "cell_type": "markdown",
      "source": [
        "0. Se procede con la carga de las librerias de trabajo"
      ],
      "metadata": {
        "id": "mNP4YKLwQ_Oz"
      }
    },
    {
      "cell_type": "code",
      "execution_count": null,
      "metadata": {
        "colab": {
          "base_uri": "https://localhost:8080/"
        },
        "collapsed": true,
        "id": "t5RFqnnzQ8IP",
        "outputId": "8eba5ba1-2b79-46a5-b55a-292ab0dca128"
      },
      "outputs": [
        {
          "output_type": "stream",
          "name": "stdout",
          "text": [
            "Drive already mounted at /content/drive; to attempt to forcibly remount, call drive.mount(\"/content/drive\", force_remount=True).\n"
          ]
        }
      ],
      "source": [
        "import numpy as np\n",
        "import pandas as pd\n",
        "\n",
        "#Para implementación y evaluación del modelo\n",
        "from sklearn.tree import DecisionTreeClassifier\n",
        "from sklearn.metrics import confusion_matrix\n",
        "\n",
        "#Para la carga automática de los archivos desde el drive\n",
        "from google.colab import drive\n",
        "drive.mount('/content/drive')"
      ]
    },
    {
      "cell_type": "markdown",
      "source": [
        "1. Se procede con la carga de la base de datos"
      ],
      "metadata": {
        "id": "nupSRPuvRxer"
      }
    },
    {
      "cell_type": "code",
      "source": [
        "nxl='/content/drive/MyDrive/Colab Notebooks/2. TechSalesReport_Int_L.xlsx'\n",
        "XDB=pd.read_excel(nxl,sheet_name=0)\n",
        "\n",
        "#Cambiar las variables de texto a variables numericas (Business y College)\n",
        "mapeo_business = {'Hardware': 0, 'Software': 1} #Mapear los valores\n",
        "XDB['Business_Num'] = XDB['Business'].map(mapeo_business) # Método 'map' para aplicar el mapeo a la columna 'Business'\n",
        "\n",
        "mapeo_college = {'No': 0, 'Yes': 1} #Mapear los valores\n",
        "XDB['College_Num'] = XDB['College'].map(mapeo_college) # Método 'map' para aplicar el mapeo a la columna 'College'\n",
        "\n",
        "#Seleccionamos las variables\n",
        "XD=XDB[['Business_Num','Age','Female','Years','Certificates','Feedback','Salary','NPS']] #Aquí estan las  8 variables de entrada\n",
        "yd=XDB['College_Num'] #Aquí esta la variable principal de referencia"
      ],
      "metadata": {
        "collapsed": true,
        "id": "Kz5-2vPSR5Uw"
      },
      "execution_count": null,
      "outputs": []
    },
    {
      "cell_type": "markdown",
      "source": [
        "2. Caracterización de la base de datos (total de personas, número de personas inscritas y número de personas no escritas)"
      ],
      "metadata": {
        "id": "kSlZ8XGrFKqK"
      }
    },
    {
      "cell_type": "code",
      "source": [
        "from sklearn.naive_bayes import GaussianNB #Cargar GaussianNB\n",
        "\n",
        "mnb=GaussianNB() #Aplicar Naive Bayes\n",
        "mnb.fit(XD,yd) #Aplicar Naive Bayes teniendo en cuenta variables\n",
        "\n",
        "#Se obtiene la info del modelo\n",
        "ct=mnb.class_count_\n",
        "print(\"Como están separados los datos (Sin Título | Con Título):\", ct) #Separación: Titulo Universitario | Sin Titulo\n",
        "print(\"El total de los datos/personas es:\", len(XD)) #Total Datos\n",
        "print(\"Los datos porcentualmente estan divididos (Sin Título | Con Título):\", ct/len(XD)) #División % (Sin Título| Con Título)\n",
        "\n",
        "#Sin Título: (0 = 4470) | Con Título: 1 = 17520"
      ],
      "metadata": {
        "colab": {
          "base_uri": "https://localhost:8080/"
        },
        "id": "B3uuH-y0FK8G",
        "outputId": "84a0f683-06a6-4a01-b1cd-0ae6ab770841"
      },
      "execution_count": null,
      "outputs": [
        {
          "output_type": "stream",
          "name": "stdout",
          "text": [
            "Como están separados los datos (Sin Título | Con Título): [ 4470. 17520.]\n",
            "El total de los datos/personas es: 21990\n",
            "Los datos porcentualmente estan divididos (Sin Título | Con Título): [0.20327422 0.79672578]\n"
          ]
        }
      ]
    },
    {
      "cell_type": "markdown",
      "source": [
        "3. Se procede con la implementación del modelo + visualización del árbol de decisión"
      ],
      "metadata": {
        "id": "w0yUA5AHYEqh"
      }
    },
    {
      "cell_type": "code",
      "source": [
        "mar=DecisionTreeClassifier(criterion='gini',max_depth=4)\n",
        "mar.fit(XD,yd)\n",
        "\n",
        "#Se procede con el despliegue del árbol de decisión\n",
        "from sklearn.tree import export_graphviz #Exportar\n",
        "from pydotplus import graph_from_dot_data #Crear el Gráfico\n",
        "\n",
        "#Variables\n",
        "vs=['Business_Num','Age','Female','Years','Certificates','Feedback','Salary','NPS']\n",
        "\n",
        "#Imagen del árbol de decisión\n",
        "dot_data=export_graphviz(mar,feature_names=vs)\n",
        "graph=graph_from_dot_data(dot_data)\n",
        "graph.write_png('1. ArbolCollege.png')\n",
        "\n",
        "#Nodos mas importantes/relevantes: Gini en 0 = mas certeros (100%) = Nodos Puros\n",
        "#Sirven para tener certeza de quienes tener en cuenta o cuales no"
      ],
      "metadata": {
        "colab": {
          "base_uri": "https://localhost:8080/"
        },
        "id": "heHFvcu-YFe2",
        "outputId": "217b6768-64dd-42cd-a625-06a6ead09855"
      },
      "execution_count": null,
      "outputs": [
        {
          "output_type": "execute_result",
          "data": {
            "text/plain": [
              "True"
            ]
          },
          "metadata": {},
          "execution_count": 4
        }
      ]
    },
    {
      "cell_type": "markdown",
      "source": [
        "4. Pronóstico base de datos \"pronóstico\" + informe de pronóstico en un archivo Excel"
      ],
      "metadata": {
        "id": "hm6SPCFknRFe"
      }
    },
    {
      "cell_type": "code",
      "source": [
        "#Se toma la totalidad de los solicitantes\n",
        "XDB2=pd.read_excel(nxl,sheet_name=1)\n",
        "yd2=XDB2[['College']]\n",
        "\n",
        "#Donde están los que no poseen infromación\n",
        "filas=np.where((np.isnan(yd2))==True)[0]\n",
        "print(\"Las filas que no poseen información:\",filas)\n",
        "\n",
        "print( ) #Para la estetica\n",
        "\n",
        "#Asegurar que las variables \"Business\" y \"College\" se mapeen a valores numéricos\n",
        "XDB2['Business_Num'] = XDB2['Business'].map({'Hardware': 0, 'Software': 1})\n",
        "XDB2['College_Num'] = XDB2['College'].map({'No': 0, 'Yes': 1})\n",
        "\n",
        "#Se hace el pronóstico de la PreApr para estas personas\n",
        "XD2=XDB2[['Business_Num','Age','Female','Years','Certificates','Feedback','Salary','NPS']]\n",
        "XD2=XD2.iloc[filas,]\n",
        "\n",
        "#Se hace el pronostico para estas personas\n",
        "ydp2=mar.predict(XD2)\n",
        "print(\"Las predicciones son:\",ydp2)\n",
        "\n",
        "print( ) #Para la estetica\n",
        "\n",
        "#Crear el informe con la PreApr\n",
        "dfp=pd.DataFrame(np.column_stack((filas,XD2,ydp2)))\n",
        "dfp.columns=['filas','Business_Num','Age','Female','Years','Certificates','Feedback','Salary','NPS','College_Num']\n",
        "dfp.to_excel('InformeCollegePro.xlsx')\n",
        "\n",
        "print(\"El total de pronosticados a no tener título Universitario:\",len(np.where(ydp2==0)[0]))\n",
        "print(\"El total de pronosticados a si tener título Universitario:\",len(np.where(ydp2==1)[0]))"
      ],
      "metadata": {
        "colab": {
          "base_uri": "https://localhost:8080/"
        },
        "id": "9kyeiLcphQ8K",
        "outputId": "1d465ff1-5f0c-45a1-bf49-02db8e897167"
      },
      "execution_count": null,
      "outputs": [
        {
          "output_type": "stream",
          "name": "stdout",
          "text": [
            "Las filas que no poseen información: [ 0  1  2  3  4  5  6  7  8  9 10 11 12 13 14 15]\n",
            "\n",
            "Las predicciones son: [1 1 1 1 1 1 1 1 1 1 1 1 1 1 1 1]\n",
            "\n",
            "El total de pronosticados a no tener título Universitario: 0\n",
            "El total de pronosticados a si tener título Universitario: 16\n"
          ]
        }
      ]
    },
    {
      "cell_type": "markdown",
      "source": [
        "5. Desempeño del modelo"
      ],
      "metadata": {
        "id": "9XGAEH7mbyRK"
      }
    },
    {
      "cell_type": "code",
      "source": [
        "ydp=mar.predict(XD)\n",
        "cm=confusion_matrix(yd,ydp)\n",
        "print(cm)\n",
        "\n",
        "VN=cm[0,0]; FP=cm[0,1]; FN=cm[1,0]; VP=cm[1,1]\n",
        "\n",
        "print( ) #Para la estetica\n",
        "\n",
        "Exactitud=(VP+VN)/(VP+VN+FP+FN) #Funcionamiento general del modelo\n",
        "print('La exactitud es:',Exactitud)\n",
        "\n",
        "Sensibilidad=VP/(VP+FN) #Como se comporto el modelo con que tienen titulo\n",
        "print('La sensibilidad es:',Sensibilidad)\n",
        "\n",
        "Especificidad=VN/(VN+FP) #Como se comporto el modelo con los que no tienen titulo\n",
        "print('La especificidad es:',Especificidad)\n",
        "\n",
        "Precision=VP/(VP+FP) #Cual es el acierto clasificando los Positivos\n",
        "print('La precisión es:',Precision)\n",
        "\n",
        "TasaError=(FP+FN)/(VP+VN+FP+FN) #Equivocación general del modelo\n",
        "print('La tasa de error es:',TasaError)\n",
        "\n",
        "PredNeg=VN/(VN+FN) #Como funciona el modelo para los 0\n",
        "print('La tasa de predicción negativa es:',PredNeg)"
      ],
      "metadata": {
        "colab": {
          "base_uri": "https://localhost:8080/"
        },
        "id": "FWHoewYob066",
        "outputId": "26d2798d-b1ef-4c91-be29-d43405420553"
      },
      "execution_count": null,
      "outputs": [
        {
          "output_type": "stream",
          "name": "stdout",
          "text": [
            "[[  114  4356]\n",
            " [   69 17451]]\n",
            "\n",
            "La exactitud es: 0.7987721691678036\n",
            "La sensibilidad es: 0.9960616438356165\n",
            "La especificidad es: 0.025503355704697986\n",
            "La precisión es: 0.8002476269087908\n",
            "La tasa de error es: 0.20122783083219645\n",
            "La tasa de predicción negativa es: 0.6229508196721312\n"
          ]
        }
      ]
    },
    {
      "cell_type": "markdown",
      "source": [
        "**Guía (TechSalesReport)**\n",
        "\n",
        "1. El archivo Google Colab, llevar a cabo la descripción de cada una de las variables de acuerdo con el libro guía, esto con el fin de dar mayor contexto al análisis:\n",
        "- Ver \"Descripción de Variables\" antes del punto 0.\n",
        "\n",
        "-\n",
        "\n",
        "2. Tomar máximo 4 niveles de análisis para la estructura del árbol de decisión:\n",
        "- Ver png ('1. ArbolCollege.png') que genera el codigo del punto 3 como visualización.\n",
        "\n",
        "-\n",
        "\n",
        "3. Llevar a cabo la caracterización de la base de datos, total de personas, número de personas inscritas y número de personas no escritas:\n",
        "- Total de Personas: 21990.\n",
        "- Número de Personas con Título: 17520.\n",
        "- Número de Personas sin Título: 4470.\n",
        "- División %: Sin Título = 20.33% | Con Título = 79.67%.\n",
        "- Para ver procedimiento ver el punto 2.\n",
        "\n",
        "-\n",
        "\n",
        "4. Determinar el número de nodos puros para el árbol asociado con la estructura del modelo:\n",
        "- 0, de nuevo se puede evidenciar en el punto 3, en la visualización del árbol de decisió.\n",
        "\n",
        "-\n",
        "\n",
        "5. Llevar a cabo el pronóstico del título Universitario para las personas agrupadas en la base de datos de pronóstico:\n",
        "- El total de pronósticados a no tener título Universitario: 0.\n",
        "- El total de pronósticados a si tener título Universitario: 16.\n",
        "- Para ver procedimiento referirce al punto 4.\n",
        "\n",
        "-\n",
        "\n",
        "6. Determinar las métricas de desempeño del modelo mediante la utilización de la matriz de confusión sobre el total de los datos:\n",
        "- Referirse a punto 5 para ver el procedimiento y la matriz de confusión.\n",
        "- La exactitud es: 79.9%\n",
        "- La sensibilidad es: 99.6%\n",
        "- La especificidad es: 2.6%\n",
        "- La precisión es: 80%\n",
        "- La tasa de error es: 20.1%\n",
        "- La tasa de predicción negativa es: 62.3%\n",
        "\n",
        "-\n",
        "\n",
        "7. Crear los informes de pronóstico en un archivo de Excel:\n",
        "- Ver Excel ('InformeCollegePro.xlsx') que genera el codigo del punto 4.\n",
        "\n",
        "-\n",
        "\n",
        "**Análisis General:** El modelo de Árbol de Decisión fue construido utilizando una base de datos de 21990 empleados, en donde el 79.67% (17520 empleados) tenían título universitario, mientras que el 20.33% (4470 empleados) no contaban con este. Para la construcción del modelo, se utilizaron ocho variables socioeconómicas (grupos de producto (hardware o software), edad, si son mujeres o no, años de experiencia, certificaciones, retroalimentación, salario base anual, y puntaje NP), excluyendo la variable de personalidad. Se identificaron los nodos puros dentro del árbol (0 en total, de acuerdo a los 4 niveles de análisis que se vieron en el árbol).\n",
        "\n",
        "El modelo alcanzó una exactitud del 79.9%, superando el umbral del 75%, lo que señala un rendimiento óptimo, y podría ser utilizado para futuras aplicaciones en la gestión del talento y toma de decisiones estratégicas. Además, la sensibilidad fue del 99.6%, lo que indica que el modelo identificó correctamente a la mayoría de los empleados con título universitario. La especificidad, encargada de identificar a los empleados sin título, se situó en 2.5%, lo que muestra un rendimiento muchisimo menor en esta area. En términos de precisión (empleados con título universitario) tuvo un 80%, mientras que la clase negativa (empleados sin título universitario) alcanzó un 62.3%. Además, también vale la pena aclarar que la equivocacion general del modelo (tasa de error) fue de 20.1%. Finalmente, al realizar el pronóstico para los empleados sin información en la base de datos (tab = 1 'Pronóstico'), se determinó que los 16 empleados sin datos fueron clasificados como poseedores de un título universitario (1)."
      ],
      "metadata": {
        "id": "ldC8s2QAoD-r"
      }
    }
  ]
}